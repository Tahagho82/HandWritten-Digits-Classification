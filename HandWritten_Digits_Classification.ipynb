{
 "cells": [
  {
   "cell_type": "markdown",
   "metadata": {},
   "source": [
    "Neural Network Class Definition"
   ]
  },
  {
   "cell_type": "code",
   "execution_count": 15,
   "metadata": {},
   "outputs": [],
   "source": [
    "import numpy as np\n",
    "from scipy.special import expit\n",
    "import matplotlib.pyplot as plt\n",
    "\n",
    "\n",
    "class NeuralNetwork:\n",
    "\n",
    "    # initialize the neural network\n",
    "\n",
    "    def __init__(self, input_nodes, hidden_nodes, output_nodes, learning_rate):\n",
    "\n",
    "        # تعیین تعداد گره های لایه های ورودی خروجی ومخفی\n",
    "\n",
    "        self.input_nodes = input_nodes\n",
    "\n",
    "        self.hidden_nodes = hidden_nodes\n",
    "\n",
    "        self.output_nodes = output_nodes\n",
    "\n",
    "        # تعیین نرخ یادگیری\n",
    "\n",
    "        self.learning_rate = learning_rate\n",
    "\n",
    "        # self.w_i_h = np.random.rand(self.hidden_nodes, self.input_nodes)-0.5\n",
    "        self.w_i_h = np.random.default_rng().normal(0, pow(self.input_nodes, -0.5),\n",
    "                                                    (self.hidden_nodes, self.input_nodes))\n",
    "\n",
    "        self.w_h_o = np.random.default_rng().normal(0, pow(self.hidden_nodes, -0.5),\n",
    "                                                    (self.output_nodes, self.hidden_nodes))\n",
    "\n",
    "        # self.w_h_o = np.random.rand(self.output_nodes, self.hidden_nodes)-0.5\n",
    "\n",
    "        self.activation_function = lambda x: expit(x)\n",
    "\n",
    "        pass\n",
    "\n",
    "    # query the neural network\n",
    "\n",
    "    def query(self, input_list):\n",
    "        # تبدیل لیست مقادیر ورودی به آرایه دو بعدی\n",
    "        inputs = np.array(input_list, ndmin=2).T  # row to column\n",
    "\n",
    "        # محاسبه سیگنال ورودی و سپس خروجی لایه مخفی\n",
    "        x_hidden = np.dot(self.w_i_h, inputs)\n",
    "        o_hidden = self.activation_function(x_hidden)\n",
    "\n",
    "        # محاسبه سیگنال ورودی و سپس خروجی لایه مخفی\n",
    "        x_output = np.dot(self.w_h_o, o_hidden)\n",
    "        o_output = self.activation_function(x_output)\n",
    "\n",
    "        return o_output\n",
    "        pass\n",
    "\n",
    "    # train the neural network\n",
    "\n",
    "    def train(self, input_list, targets_list):\n",
    "        # محاسبه سیگنال‌های ورودی و خروجی لایه‌ها\n",
    "        inputs = np.array(input_list, ndmin=2).T\n",
    "\n",
    "        x_hidden = np.dot(self.w_i_h, inputs)\n",
    "        o_hidden = self.activation_function(x_hidden)\n",
    "\n",
    "        x_output = np.dot(self.w_h_o, o_hidden)\n",
    "        o_output = self.activation_function(x_output)\n",
    "\n",
    "        #محاسبه خطای شبکه بر اساس اختلاف خروجی با هدف‌ها\n",
    "        targets = np.array(targets_list, ndmin=2).T\n",
    "        output_errors = targets - o_output\n",
    "        #پس انتشار خطای شبکه روی نورون‌های لایه مخفی\n",
    "        hidden_errors = np.dot(self.w_h_o.T, output_errors)\n",
    "\n",
    "        # محاسبه وزن‌های جدید اتصال‌ها با گرادیان کاهشی\n",
    "        self.w_h_o += self.learning_rate * np.dot((output_errors * o_output * (1-o_output)), o_hidden.T)\n",
    "        self.w_i_h += self.learning_rate * np.dot((hidden_errors * o_hidden * (1-o_hidden)), inputs.T)\n",
    "       "
   ]
  },
  {
   "cell_type": "markdown",
   "metadata": {},
   "source": [
    "Neural Network Instance Creation"
   ]
  },
  {
   "cell_type": "code",
   "execution_count": 16,
   "metadata": {},
   "outputs": [],
   "source": [
    "# فراخوانی داده های اموزش از امنیست\n",
    "train_file = open('mnist_train.csv', 'r')\n",
    "train_list = train_file.readlines()\n",
    "train_file.close()\n",
    "\n",
    "# فراخوانی داده های آزمایش از امنیست\n",
    "test_file = open('mnist_test.csv', 'r')\n",
    "test_list = test_file.readlines()\n",
    "test_file.close()"
   ]
  },
  {
   "cell_type": "code",
   "execution_count": 17,
   "metadata": {},
   "outputs": [],
   "source": [
    "# تعیین تعدا د نورون ها در هر لایه\n",
    "input_nodes = 784\n",
    "hidden_nodes = 100\n",
    "output_nodes = 10\n",
    "\n",
    "# تعیین نرخ یادگیری شبکه\n",
    "learning_rate = 0.15\n",
    "\n",
    "\n",
    "# تعیین تعداد دوره یادگیری: تکرار یادگیری با تمام دیتاست را یک دوره گوییم\n",
    "epochs = 4\n",
    "\n",
    "# ساخت نمونه از شبکه عصبی با معماری بالا\n",
    "nn = NeuralNetwork(input_nodes, hidden_nodes,\n",
    "                   output_nodes, learning_rate)\n",
    "\n",
    "\n",
    "# اموزش شبکه ساخته شده با داده های اموزشی امنیست\n",
    "for round in range(epochs):\n",
    "    for row in train_list:\n",
    "        row_data = row.split(',')\n",
    "        inputs = (np.asfarray(row_data[1:]) / (255.0 * 0.98)) + 0.01\n",
    "        targets = np.zeros(output_nodes) + 0.01\n",
    "        targets[int(row_data[0])] = 0.99\n",
    "        nn.train(inputs, targets)"
   ]
  },
  {
   "cell_type": "code",
   "execution_count": 18,
   "metadata": {},
   "outputs": [
    {
     "name": "stdout",
     "output_type": "stream",
     "text": [
      "Test Number :  9\n",
      "predicted Number :  9\n"
     ]
    },
    {
     "data": {
      "image/png": "[encoded data removed]",
      "text/plain": [
       "<Figure size 640x480 with 1 Axes>"
      ]
     },
     "metadata": {},
     "output_type": "display_data"
    }
   ],
   "source": [
    "# آزمایش شبکه عصبی ساخته شده با یک از داده های محموعه آزمایشی\n",
    "\n",
    "test_row_data = test_list[20].split(',')\n",
    "print('Test Number : ',test_row_data[0])\n",
    "\n",
    "image_data = np.asarray(test_row_data[1:], dtype=np.int32).reshape((28,28))\n",
    "image = plt.imshow(image_data, cmap='Greys')\n",
    "\n",
    "print(\"predicted Number : \",\n",
    "      np.argmax(nn.query((np.asfarray(test_row_data[1:]) / (255.0 * 0.99)) + 0.01)))\n"
   ]
  },
  {
   "cell_type": "code",
   "execution_count": 19,
   "metadata": {},
   "outputs": [
    {
     "name": "stdout",
     "output_type": "stream",
     "text": [
      "\n",
      "Total Performance :  0.9598\n"
     ]
    }
   ],
   "source": [
    "# آزمایش عملکرد شبکه به لحاظ پیش بینی همه داده های آزمایشی\n",
    "score_card = []\n",
    "\n",
    "for row in test_list:\n",
    "    row_data = row.split(',')\n",
    "    target_number = int(row_data[0])\n",
    "    inputs = (np.asfarray(row_data[1:]) / 255 * 0.98) + 0.01\n",
    "    outputs = nn.query(inputs)\n",
    "    predicted_number = np.argmax(outputs)\n",
    "    # print('\\nTarget Number : ', target_number)\n",
    "    # print('Predicted Number : ',predicted_number)\n",
    "\n",
    "    if target_number == predicted_number:\n",
    "        score_card.append(1)\n",
    "    else:\n",
    "        score_card.append(0)\n",
    "\n",
    "# print(\"\\n\\ntotal score card \", score_card)\n",
    "score_card_array = np.asarray(score_card)\n",
    "\n",
    "print('\\nTotal Performance : ', score_card_array.sum() / score_card_array.size)"
   ]
  },
  {
   "cell_type": "code",
   "execution_count": 20,
   "metadata": {},
   "outputs": [
    {
     "data": {
      "text/plain": [
       "Text(0.5, 1.0, '3-Layer NN for MNIST HandWritten Digits Classification')"
      ]
     },
     "execution_count": 20,
     "metadata": {},
     "output_type": "execute_result"
    },
    {
     "data": {
      "image/png": "[encoded data removed]",
      "text/plain": [
       "<Figure size 640x480 with 1 Axes>"
      ]
     },
     "metadata": {},
     "output_type": "display_data"
    }
   ],
   "source": [
    "# بهینه یابی نرخ یادگیری\n",
    "\n",
    "tested_learning_rate = [0.1, 0.15, 0.2, 0.3, 0.6]\n",
    "result_performance = [0.948, 0.9498, 0.949, 0.944, 0.904]\n",
    "\n",
    "fig, ax = plt.subplots()\n",
    "ax.plot(tested_learning_rate, result_performance, linestyle='--', marker='o')\n",
    "\n",
    "ax.set_xlabel('Learning rate')\n",
    "ax.set_ylabel('Performance')\n",
    "ax.set_title('3-Layer NN for MNIST HandWritten Digits Classification')"
   ]
  },
  {
   "cell_type": "markdown",
   "metadata": {},
   "source": [
    "Training"
   ]
  },
  {
   "cell_type": "code",
   "execution_count": 21,
   "metadata": {},
   "outputs": [
    {
     "data": {
      "text/plain": [
       "'5,0,0,0,0,0,0,0,0,0,0,0,0,0,0,0,0,0,0,0,0,0,0,0,0,0,0,0,0,0,0,0,0,0,0,0,0,0,0,0,0,0,0,0,0,0,0,0,0,0,0,0,0,0,0,0,0,0,0,0,0,0,0,0,0,0,0,0,0,0,0,0,0,0,0,0,0,0,0,0,0,0,0,0,0,0,0,0,0,0,0,0,0,0,0,0,0,0,0,0,0,0,0,0,0,0,0,0,0,0,0,0,0,0,0,0,0,0,0,0,0,0,0,0,0,0,0,0,0,0,0,0,0,0,0,0,0,0,0,0,0,0,0,0,0,0,0,0,0,0,0,0,0,3,18,18,18,126,136,175,26,166,255,247,127,0,0,0,0,0,0,0,0,0,0,0,0,30,36,94,154,170,253,253,253,253,253,225,172,253,242,195,64,0,0,0,0,0,0,0,0,0,0,0,49,238,253,253,253,253,253,253,253,253,251,93,82,82,56,39,0,0,0,0,0,0,0,0,0,0,0,0,18,219,253,253,253,253,253,198,182,247,241,0,0,0,0,0,0,0,0,0,0,0,0,0,0,0,0,0,0,80,156,107,253,253,205,11,0,43,154,0,0,0,0,0,0,0,0,0,0,0,0,0,0,0,0,0,0,0,14,1,154,253,90,0,0,0,0,0,0,0,0,0,0,0,0,0,0,0,0,0,0,0,0,0,0,0,0,0,139,253,190,2,0,0,0,0,0,0,0,0,0,0,0,0,0,0,0,0,0,0,0,0,0,0,0,0,11,190,253,70,0,0,0,0,0,0,0,0,0,0,0,0,0,0,0,0,0,0,0,0,0,0,0,0,0,35,241,225,160,108,1,0,0,0,0,0,0,0,0,0,0,0,0,0,0,0,0,0,0,0,0,0,0,0,81,240,253,253,119,25,0,0,0,0,0,0,0,0,0,0,0,0,0,0,0,0,0,0,0,0,0,0,0,45,186,253,253,150,27,0,0,0,0,0,0,0,0,0,0,0,0,0,0,0,0,0,0,0,0,0,0,0,16,93,252,253,187,0,0,0,0,0,0,0,0,0,0,0,0,0,0,0,0,0,0,0,0,0,0,0,0,0,249,253,249,64,0,0,0,0,0,0,0,0,0,0,0,0,0,0,0,0,0,0,0,0,0,46,130,183,253,253,207,2,0,0,0,0,0,0,0,0,0,0,0,0,0,0,0,0,0,0,0,39,148,229,253,253,253,250,182,0,0,0,0,0,0,0,0,0,0,0,0,0,0,0,0,0,0,24,114,221,253,253,253,253,201,78,0,0,0,0,0,0,0,0,0,0,0,0,0,0,0,0,0,23,66,213,253,253,253,253,198,81,2,0,0,0,0,0,0,0,0,0,0,0,0,0,0,0,0,18,171,219,253,253,253,253,195,80,9,0,0,0,0,0,0,0,0,0,0,0,0,0,0,0,0,55,172,226,253,253,253,253,244,133,11,0,0,0,0,0,0,0,0,0,0,0,0,0,0,0,0,0,0,136,253,253,253,212,135,132,16,0,0,0,0,0,0,0,0,0,0,0,0,0,0,0,0,0,0,0,0,0,0,0,0,0,0,0,0,0,0,0,0,0,0,0,0,0,0,0,0,0,0,0,0,0,0,0,0,0,0,0,0,0,0,0,0,0,0,0,0,0,0,0,0,0,0,0,0,0,0,0,0,0,0,0,0,0,0,0,0,0,0,0,0,0,0,0,0,0,0,0,0,0,0,0,0,0,0,0,0\\n'"
      ]
     },
     "execution_count": 21,
     "metadata": {},
     "output_type": "execute_result"
    }
   ],
   "source": [
    "train_file = open('mnist_train_100.csv', 'r')\n",
    "train_list = train_file.readlines()\n",
    "train_file.close()\n",
    "train_list[0]"
   ]
  },
  {
   "cell_type": "code",
   "execution_count": 22,
   "metadata": {},
   "outputs": [
    {
     "data": {
      "image/png": "[encoded data removed]",
      "text/plain": [
       "<Figure size 640x480 with 1 Axes>"
      ]
     },
     "metadata": {},
     "output_type": "display_data"
    }
   ],
   "source": [
    "# نمایش عکس ها در دیتا ست mnist\n",
    "row_data = train_list[0].split(',')\n",
    "image_data = np.asarray(row_data[1:], dtype=np.int32).reshape((28,28))\n",
    "image = plt.imshow(image_data, cmap='Greys')"
   ]
  },
  {
   "cell_type": "code",
   "execution_count": 23,
   "metadata": {},
   "outputs": [
    {
     "data": {
      "text/plain": [
       "array([0.01, 0.01, 0.01, 0.01, 0.01, 0.99, 0.01, 0.01, 0.01, 0.01])"
      ]
     },
     "execution_count": 23,
     "metadata": {},
     "output_type": "execute_result"
    }
   ],
   "source": [
    "#  مقیاس کردن داده های ورودی به محدوده 0.01 تا 1\n",
    "scaled_inputs = (np.asfarray(row_data[1:]) / (255.0 * 0.99)) + 0.01 \n",
    "\n",
    "\n",
    "# مقیاس کردن داده های خروجی به محدوده 0.01 تا 0.99\n",
    "n_output = 10\n",
    "scaled_targets = np.zeros(n_output) +0.01\n",
    "scaled_targets[int(row_data[0])] = 0.99\n",
    "scaled_targets"
   ]
  }
 ],
 "metadata": {
  "kernelspec": {
   "display_name": "Python 3",
   "language": "python",
   "name": "python3"
  },
  "language_info": {
   "codemirror_mode": {
    "name": "ipython",
    "version": 3
   },
   "file_extension": ".py",
   "mimetype": "text/x-python",
   "name": "python",
   "nbconvert_exporter": "python",
   "pygments_lexer": "ipython3",
   "version": "3.12.4"
  }
 },
 "nbformat": 4,
 "nbformat_minor": 2
}
